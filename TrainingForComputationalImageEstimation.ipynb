{
  "nbformat": 4,
  "nbformat_minor": 0,
  "metadata": {
    "kernelspec": {
      "display_name": "Python 3",
      "language": "python",
      "name": "python3"
    },
    "language_info": {
      "codemirror_mode": {
        "name": "ipython",
        "version": 3
      },
      "file_extension": ".py",
      "mimetype": "text/x-python",
      "name": "python",
      "nbconvert_exporter": "python",
      "pygments_lexer": "ipython3",
      "version": "3.6.5"
    },
    "colab": {
      "name": "TrainingForComputationalImageEstimation.ipynb",
      "provenance": [],
      "include_colab_link": true
    }
  },
  "cells": [
    {
      "cell_type": "markdown",
      "metadata": {
        "id": "view-in-github",
        "colab_type": "text"
      },
      "source": [
        "<a href=\"https://colab.research.google.com/github/djbrady/CNNprocessing/blob/main/TrainingForComputationalImageEstimation.ipynb\" target=\"_parent\"><img src=\"https://colab.research.google.com/assets/colab-badge.svg\" alt=\"Open In Colab\"/></a>"
      ]
    },
    {
      "cell_type": "markdown",
      "metadata": {
        "id": "fhF9dH0-pv6J"
      },
      "source": [
        "## Training data estimation from image features\n",
        "\n",
        "## January 2021\n",
        "### David Brady\n",
        "\n",
        "\n"
      ]
    },
    {
      "cell_type": "markdown",
      "metadata": {
        "id": "1PZJzswgcei3"
      },
      "source": [
        "This notebook consists explores artificial creation of training images for standard digital image estimation challenges. Training data creation consists of three components:\r\n",
        "\r\n",
        "> * image component generation. Image components could include cars, dogs, handbags, etc., but could also include abstract features like circules, rectangles, triangles, etc. The components must be generated from vector graphics, anything based on pixel images is already corrupted by the sampling process.\r\n",
        "> * Image composition. The composed image is the \"ground truth\" image. The composed image is created from components by standard transformations, such as translation, scaling, rotation, illumination, etc. \r\n",
        "> * measurement models. Measurement creates sample data from the composed image by sampling through camera arrays, focal states, color filters etc. \r\n",
        "\r\n",
        "To create training data, we have an image composition and measurement function. For each instancce the composition and measurement function creates a ground truth/ measurement pair to be used for training. "
      ]
    },
    {
      "cell_type": "markdown",
      "metadata": {
        "id": "uioZ2gYRpv6U"
      },
      "source": [
        "### libraries"
      ]
    },
    {
      "cell_type": "code",
      "metadata": {
        "id": "0XakEoD4pv6U"
      },
      "source": [
        "import numpy as np\n",
        "import matplotlib as mpl\n",
        "import matplotlib.pyplot as plt\n",
        "import subprocess\n",
        "import skimage\n",
        "import skimage.io as imio\n",
        "import skimage.transform as trans\n",
        "import glob\n",
        "import re\n",
        "from time import gmtime, strftime, sleep\n",
        "from scipy import interpolate as interp\n",
        "%matplotlib inline\n",
        "mpl.rcParams['figure.figsize'] = (16.0, 8.0) "
      ],
      "execution_count": 2,
      "outputs": []
    },
    {
      "cell_type": "code",
      "metadata": {
        "colab": {
          "base_uri": "https://localhost:8080/"
        },
        "id": "wKeVSU6FhMnZ",
        "outputId": "6fd6de90-f10f-4bcb-f50a-3c3503fd863a"
      },
      "source": [
        "! pip3 install drawSvg"
      ],
      "execution_count": 3,
      "outputs": [
        {
          "output_type": "stream",
          "text": [
            "Collecting drawSvg\n",
            "  Downloading https://files.pythonhosted.org/packages/b0/25/72b3cc2a84d59b0ccf67c18abe5b896757f22eb31be74a2fe2d6a478f59f/drawSvg-1.7.0-py3-none-any.whl\n",
            "Requirement already satisfied: imageio in /usr/local/lib/python3.6/dist-packages (from drawSvg) (2.4.1)\n",
            "Collecting cairoSVG\n",
            "\u001b[?25l  Downloading https://files.pythonhosted.org/packages/5c/a0/9900cf4556f5d55f09bd8c6c28454349235e77ac56f648a463fc0df0045b/CairoSVG-2.5.1-py3-none-any.whl (45kB)\n",
            "\u001b[K     |████████████████████████████████| 51kB 3.5MB/s \n",
            "\u001b[?25hRequirement already satisfied: numpy in /usr/local/lib/python3.6/dist-packages (from drawSvg) (1.19.5)\n",
            "Requirement already satisfied: pillow in /usr/local/lib/python3.6/dist-packages (from imageio->drawSvg) (7.0.0)\n",
            "Requirement already satisfied: defusedxml in /usr/local/lib/python3.6/dist-packages (from cairoSVG->drawSvg) (0.6.0)\n",
            "Collecting cairocffi\n",
            "\u001b[?25l  Downloading https://files.pythonhosted.org/packages/84/ca/0bffed5116d21251469df200448667e90acaa5131edea869b44a3fbc73d0/cairocffi-1.2.0.tar.gz (70kB)\n",
            "\u001b[K     |████████████████████████████████| 71kB 4.0MB/s \n",
            "\u001b[?25hCollecting tinycss2\n",
            "  Downloading https://files.pythonhosted.org/packages/65/f7/63bf697a7c7257d304269b49f1be3dfe429856889e93963d6f5790d77d82/tinycss2-1.1.0-py3-none-any.whl\n",
            "Collecting cssselect2\n",
            "  Downloading https://files.pythonhosted.org/packages/99/da/c86ec74495c69518720652f8aa8ab642d8af61a2098eede9db8b03d3c8b4/cssselect2-0.4.1-py3-none-any.whl\n",
            "Requirement already satisfied: cffi>=1.1.0 in /usr/local/lib/python3.6/dist-packages (from cairocffi->cairoSVG->drawSvg) (1.14.4)\n",
            "Requirement already satisfied: webencodings>=0.4 in /usr/local/lib/python3.6/dist-packages (from tinycss2->cairoSVG->drawSvg) (0.5.1)\n",
            "Requirement already satisfied: pycparser in /usr/local/lib/python3.6/dist-packages (from cffi>=1.1.0->cairocffi->cairoSVG->drawSvg) (2.20)\n",
            "Building wheels for collected packages: cairocffi\n",
            "  Building wheel for cairocffi (setup.py) ... \u001b[?25l\u001b[?25hdone\n",
            "  Created wheel for cairocffi: filename=cairocffi-1.2.0-cp36-none-any.whl size=89552 sha256=4844ba4a7493044bf9e5b48947033531328ebcdeb11022ddc9328266d65fe44c\n",
            "  Stored in directory: /root/.cache/pip/wheels/40/76/48/f1effadceea83b32e7d957dd0f92db4db8b537d7b72b4ef374\n",
            "Successfully built cairocffi\n",
            "Installing collected packages: cairocffi, tinycss2, cssselect2, cairoSVG, drawSvg\n",
            "Successfully installed cairoSVG-2.5.1 cairocffi-1.2.0 cssselect2-0.4.1 drawSvg-1.7.0 tinycss2-1.1.0\n"
          ],
          "name": "stdout"
        }
      ]
    },
    {
      "cell_type": "markdown",
      "metadata": {
        "id": "LD57pRoThoqh"
      },
      "source": [
        "here is an example set of features generated by drawsvg.\r\n",
        "\r\n",
        "What we need to create:\r\n",
        "\r\n",
        "* a set of \"eigenfeatures\" created by drawsvg\r\n",
        "* a function to create a 3d ground truth image from the eigenfeatures\r\n",
        "* a function to model sampling of the ground truty image to create the training measurement."
      ]
    },
    {
      "cell_type": "code",
      "metadata": {
        "colab": {
          "base_uri": "https://localhost:8080/",
          "height": 221
        },
        "id": "zcZvbXyUhXxq",
        "outputId": "6b1eb805-f1cc-4190-f2d7-6c7b726440b7"
      },
      "source": [
        "import drawSvg as draw\r\n",
        "\r\n",
        "d = draw.Drawing(200, 100, origin='center', displayInline=False)\r\n",
        "\r\n",
        "# Draw an irregular polygon\r\n",
        "d.append(draw.Lines(-80, -45,\r\n",
        "                    70, -49,\r\n",
        "                    95, 49,\r\n",
        "                    -90, 40,\r\n",
        "                    close=False,\r\n",
        "            fill='#eeee00',\r\n",
        "            stroke='black'))\r\n",
        "\r\n",
        "# Draw a rectangle\r\n",
        "r = draw.Rectangle(0,0,40,50, fill='#1248ff')\r\n",
        "r.appendTitle(\"Our first rectangle\")  # Add a tooltip\r\n",
        "d.append(r)\r\n",
        "\r\n",
        "# Draw a circle\r\n",
        "d.append(draw.Circle(-40, -10, 30,\r\n",
        "            fill='red', stroke_width=2, stroke='black'))\r\n",
        "\r\n",
        "# Draw an arbitrary path (a triangle in this case)\r\n",
        "p = draw.Path(stroke_width=2, stroke='green',\r\n",
        "              fill='black', fill_opacity=0.5)\r\n",
        "p.M(-30,5)  # Start path at point (-30, 5)\r\n",
        "p.l(60,30)  # Draw line to (60, 30)\r\n",
        "p.h(-70)    # Draw horizontal line to x=-70\r\n",
        "p.Z()       # Draw line to start\r\n",
        "d.append(p)\r\n",
        "\r\n",
        "# Draw multiple circular arcs\r\n",
        "d.append(draw.ArcLine(60,-20,20,60,270,\r\n",
        "            stroke='red', stroke_width=5, fill='red', fill_opacity=0.2))\r\n",
        "d.append(draw.Arc(60,-20,20,60,270,cw=False,\r\n",
        "            stroke='green', stroke_width=3, fill='none'))\r\n",
        "d.append(draw.Arc(60,-20,20,270,60,cw=True,\r\n",
        "            stroke='blue', stroke_width=1, fill='black', fill_opacity=0.3))\r\n",
        "\r\n",
        "# Draw arrows\r\n",
        "arrow = draw.Marker(-0.1, -0.5, 0.9, 0.5, scale=4, orient='auto')\r\n",
        "arrow.append(draw.Lines(-0.1, -0.5, -0.1, 0.5, 0.9, 0, fill='red', close=True))\r\n",
        "p = draw.Path(stroke='red', stroke_width=2, fill='none',\r\n",
        "              marker_end=arrow)  # Add an arrow to the end of a path\r\n",
        "p.M(20, -40).L(20, -27).L(0, -20)  # Chain multiple path operations\r\n",
        "d.append(p)\r\n",
        "d.append(draw.Line(30, -20, 0, -10,\r\n",
        "            stroke='red', stroke_width=2, fill='none',\r\n",
        "            marker_end=arrow))  # Add an arrow to the end of a line\r\n",
        "\r\n",
        "d.setPixelScale(2)  # Set number of pixels per geometry unit\r\n",
        "#d.setRenderSize(400,200)  # Alternative to setPixelScale\r\n",
        "d.saveSvg('example.svg')\r\n",
        "d.savePng('example.png')\r\n",
        "\r\n",
        "# Display in Jupyter notebook\r\n",
        "d.rasterize()  # Display as PNG\r\n",
        "d  # Display as SVG"
      ],
      "execution_count": 5,
      "outputs": [
        {
          "output_type": "execute_result",
          "data": {
            "text/html": [
              "<img src=\"data:image/svg+xml;base64,PD94bWwgdmVyc2lvbj0iMS4wIiBlbmNvZGluZz0iVVRGLTgiPz4KPHN2ZyB4bWxucz0iaHR0cDovL3d3dy53My5vcmcvMjAwMC9zdmciIHhtbG5zOnhsaW5rPSJodHRwOi8vd3d3LnczLm9yZy8xOTk5L3hsaW5rIgogICAgIHdpZHRoPSI0MDAiIGhlaWdodD0iMjAwIiB2aWV3Qm94PSItMTAwLjAgLTUwLjAgMjAwIDEwMCI+CjxkZWZzPgo8bWFya2VyIG1hcmtlcldpZHRoPSI0LjAiIG1hcmtlckhlaWdodD0iNC4wIiB2aWV3Qm94PSItMC4xIC0wLjUgMS4wIDEuMCIgb3JpZW50PSJhdXRvIiBpZD0iZDAiPgo8cGF0aCBkPSJNLTAuMSwwLjUgTC0wLjEsLTAuNSBMMC45LDAgWiIgZmlsbD0icmVkIiAvPgo8L21hcmtlcj4KPC9kZWZzPgo8cGF0aCBkPSJNLTgwLDQ1IEw3MCw0OSBMOTUsLTQ5IEwtOTAsLTQwIiBmaWxsPSIjZWVlZTAwIiBzdHJva2U9ImJsYWNrIiAvPgo8cmVjdCB4PSIwIiB5PSItNTAiIHdpZHRoPSI0MCIgaGVpZ2h0PSI1MCIgZmlsbD0iIzEyNDhmZiI+Cjx0aXRsZT5PdXIgZmlyc3QgcmVjdGFuZ2xlPC90aXRsZT4KPC9yZWN0Pgo8Y2lyY2xlIGN4PSItNDAiIGN5PSIxMCIgcj0iMzAiIGZpbGw9InJlZCIgc3Ryb2tlLXdpZHRoPSIyIiBzdHJva2U9ImJsYWNrIiAvPgo8cGF0aCBkPSJNLTMwLC01IGw2MCwtMzAgaC03MCBaIiBzdHJva2Utd2lkdGg9IjIiIHN0cm9rZT0iZ3JlZW4iIGZpbGw9ImJsYWNrIiBmaWxsLW9wYWNpdHk9IjAuNSIgLz4KPGNpcmNsZSBjeD0iNjAiIGN5PSIyMCIgcj0iMjAiIHN0cm9rZS1kYXNoYXJyYXk9IjczLjMwMzgyODU4Mzc2MTg0IDUyLjM1OTg3NzU1OTgyOTg4IiBzdHJva2UtZGFzaG9mZnNldD0iLTMxLjQxNTkyNjUzNTg5NzkzIiBzdHJva2U9InJlZCIgc3Ryb2tlLXdpZHRoPSI1IiBmaWxsPSJyZWQiIGZpbGwtb3BhY2l0eT0iMC4yIiAvPgo8cGF0aCBkPSJNNzAuMCwyLjY3OTQ5MTkyNDMxMTIyOSBBMjAsMjAsMCwxLDAsNTkuOTk5OTk5OTk5OTk5OTksNDAuMCIgc3Ryb2tlPSJncmVlbiIgc3Ryb2tlLXdpZHRoPSIzIiBmaWxsPSJub25lIiAvPgo8cGF0aCBkPSJNNTkuOTk5OTk5OTk5OTk5OTksNDAuMCBBMjAsMjAsMCwxLDEsNzAuMCwyLjY3OTQ5MTkyNDMxMTIyOSIgc3Ryb2tlPSJibHVlIiBzdHJva2Utd2lkdGg9IjEiIGZpbGw9ImJsYWNrIiBmaWxsLW9wYWNpdHk9IjAuMyIgLz4KPHBhdGggZD0iTTIwLDQwIEwyMCwyNyBMMCwyMCIgc3Ryb2tlPSJyZWQiIHN0cm9rZS13aWR0aD0iMiIgZmlsbD0ibm9uZSIgbWFya2VyLWVuZD0idXJsKCNkMCkiIC8+CjxwYXRoIGQ9Ik0zMCwyMCBMMCwxMCIgc3Ryb2tlPSJyZWQiIHN0cm9rZS13aWR0aD0iMiIgZmlsbD0ibm9uZSIgbWFya2VyLWVuZD0idXJsKCNkMCkiIC8+Cjwvc3ZnPg==\">"
            ],
            "text/plain": [
              "<drawSvg.drawing.Drawing at 0x7fe7ece648d0>"
            ]
          },
          "metadata": {
            "tags": []
          },
          "execution_count": 5
        }
      ]
    },
    {
      "cell_type": "code",
      "metadata": {
        "id": "yB6ZmUr9hh4m"
      },
      "source": [
        ""
      ],
      "execution_count": null,
      "outputs": []
    }
  ]
}